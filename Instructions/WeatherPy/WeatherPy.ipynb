{
 "cells": [
  {
   "cell_type": "markdown",
   "metadata": {},
   "source": [
    "# WeatherPy\n",
    "----\n",
    "\n",
    "#### Note\n",
    "* Instructions have been included for each segment. You do not have to follow them exactly, but they are included to help you think through the steps."
   ]
  },
  {
   "cell_type": "code",
   "execution_count": 1,
   "metadata": {
    "scrolled": true
   },
   "outputs": [],
   "source": [
    "# Dependencies and Setup\n",
    "import matplotlib.pyplot as plt\n",
    "import scipy.stats as st\n",
    "import pandas as pd\n",
    "import numpy as np\n",
    "import requests\n",
    "import time\n",
    "from scipy.stats import linregress\n",
    "import json\n",
    "\n",
    "# Import API key\n",
    "from api_keys import weather_api_key\n",
    "\n",
    "# Incorporated citipy to determine city based on latitude and longitude\n",
    "from citipy import citipy\n",
    "\n",
    "# Output File (CSV)\n",
    "output_data_file = \"output_data/cities.csv\"\n",
    "\n",
    "# Range of latitudes and longitudes\n",
    "lat_range = (-90, 90)\n",
    "lng_range = (-180, 180)"
   ]
  },
  {
   "cell_type": "markdown",
   "metadata": {},
   "source": [
    "## Generate Cities List"
   ]
  },
  {
   "cell_type": "code",
   "execution_count": 2,
   "metadata": {},
   "outputs": [
    {
     "data": {
      "text/plain": [
       "600"
      ]
     },
     "execution_count": 2,
     "metadata": {},
     "output_type": "execute_result"
    }
   ],
   "source": [
    "# List for holding lat_lngs and cities\n",
    "lat_lngs = []\n",
    "cities = []\n",
    "\n",
    "# Create a set of random lat and lng combinations\n",
    "lats = np.random.uniform(lat_range[0], lat_range[1], size=1500)\n",
    "lngs = np.random.uniform(lng_range[0], lng_range[1], size=1500)\n",
    "lat_lngs = zip(lats, lngs)\n",
    "\n",
    "# Identify nearest city for each lat, lng combination\n",
    "for lat_lng in lat_lngs:\n",
    "    city = citipy.nearest_city(lat_lng[0], lat_lng[1]).city_name\n",
    "    \n",
    "    # If the city is unique, then add it to a our cities list\n",
    "    if city not in cities:\n",
    "        cities.append(city)\n",
    "\n",
    "# Print the city count to confirm sufficient count\n",
    "len(cities)\n",
    "#cities"
   ]
  },
  {
   "cell_type": "code",
   "execution_count": 3,
   "metadata": {},
   "outputs": [],
   "source": [
    "#Create a list to break the cities into groups of 50s\n",
    "\n",
    "j = len(cities)\n",
    "remainder = j%50\n",
    "quotient = int(j/50)\n",
    "list_of_city_df=[]\n",
    "df_list = []\n",
    "for i in range(quotient+1):\n",
    "    df_list.append(i*50)\n",
    "for k in range(len(df_list)-1):\n",
    "    temp_list = cities[df_list[k]:df_list[k+1]]\n",
    "    list_of_city_df.append(temp_list)\n",
    "if(remainder != 0):\n",
    "    list_of_city_df.append(cities[df_list[-1]:])\n"
   ]
  },
  {
   "cell_type": "markdown",
   "metadata": {},
   "source": [
    "### Perform API Calls\n",
    "* Perform a weather check on each city using a series of successive API calls.\n",
    "* Include a print log of each city as it'sbeing processed (with the city number and city name).\n"
   ]
  },
  {
   "cell_type": "code",
   "execution_count": 4,
   "metadata": {},
   "outputs": [
    {
     "name": "stdout",
     "output_type": "stream",
     "text": [
      "Beginning Data Retrieval\n",
      "Processing data for rikitea, subset 0 :\n",
      "Processing data for qaanaaq, subset 0 :\n",
      "Processing data for punta arenas, subset 0 :\n",
      "Processing data for port alfred, subset 0 :\n",
      "Processing data for grindavik, subset 0 :\n",
      "Processing data for upernavik, subset 0 :\n",
      "Processing data for albany, subset 0 :\n",
      "Processing data for yatou, subset 0 :\n",
      "Processing data for mys shmidta, subset 0 :\n",
      "mys shmidta not found\n",
      "Processing data for taolanaro, subset 0 :\n",
      "taolanaro not found\n",
      "Processing data for mataura, subset 0 :\n",
      "Processing data for castro, subset 0 :\n",
      "Processing data for cayenne, subset 0 :\n",
      "Processing data for hermanus, subset 0 :\n",
      "Processing data for amapa, subset 0 :\n",
      "Processing data for tukrah, subset 0 :\n",
      "Processing data for chuy, subset 0 :\n",
      "Processing data for presidencia roque saenz pena, subset 0 :\n",
      "Processing data for cherskiy, subset 0 :\n",
      "Processing data for marzuq, subset 0 :\n",
      "Processing data for ushuaia, subset 0 :\n",
      "Processing data for severo-yeniseyskiy, subset 0 :\n",
      "Processing data for nome, subset 0 :\n",
      "Processing data for barentsburg, subset 0 :\n",
      "barentsburg not found\n",
      "Processing data for mantua, subset 0 :\n",
      "Processing data for busselton, subset 0 :\n",
      "Processing data for amderma, subset 0 :\n",
      "amderma not found\n",
      "Processing data for broken hill, subset 0 :\n",
      "Processing data for beloha, subset 0 :\n",
      "Processing data for benin, subset 0 :\n",
      "Processing data for marcona, subset 0 :\n",
      "marcona not found\n",
      "Processing data for yellowknife, subset 0 :\n",
      "Processing data for srednekolymsk, subset 0 :\n",
      "Processing data for bluff, subset 0 :\n",
      "Processing data for kapaa, subset 0 :\n",
      "Processing data for atuona, subset 0 :\n",
      "Processing data for yamada, subset 0 :\n",
      "Processing data for vaini, subset 0 :\n",
      "Processing data for hihifo, subset 0 :\n",
      "hihifo not found\n",
      "Processing data for armacao de pera, subset 0 :\n",
      "Processing data for avera, subset 0 :\n",
      "Processing data for haldia, subset 0 :\n",
      "Processing data for georgetown, subset 0 :\n",
      "Processing data for walvis bay, subset 0 :\n",
      "Processing data for nauta, subset 0 :\n",
      "Processing data for aranos, subset 0 :\n",
      "Processing data for hilo, subset 0 :\n",
      "Processing data for sao jose da coroa grande, subset 0 :\n",
      "Processing data for avarua, subset 0 :\n",
      "Processing data for tasiilaq, subset 0 :\n",
      "Processing data for thompson, subset 1 :\n",
      "Processing data for kirakira, subset 1 :\n",
      "Processing data for butaritari, subset 1 :\n",
      "Processing data for mingshui, subset 1 :\n",
      "Processing data for tiksi, subset 1 :\n",
      "Processing data for sinkat, subset 1 :\n",
      "sinkat not found\n",
      "Processing data for coari, subset 1 :\n",
      "Processing data for marau, subset 1 :\n",
      "Processing data for malinovoye ozero, subset 1 :\n",
      "Processing data for narsaq, subset 1 :\n",
      "Processing data for vao, subset 1 :\n",
      "Processing data for hobart, subset 1 :\n",
      "Processing data for saint george, subset 1 :\n",
      "Processing data for barrow, subset 1 :\n",
      "Processing data for vaitupu, subset 1 :\n",
      "vaitupu not found\n",
      "Processing data for hirara, subset 1 :\n",
      "Processing data for glendive, subset 1 :\n",
      "Processing data for jamestown, subset 1 :\n",
      "Processing data for kortkeros, subset 1 :\n",
      "Processing data for hoquiam, subset 1 :\n",
      "Processing data for faanui, subset 1 :\n",
      "Processing data for pangnirtung, subset 1 :\n",
      "Processing data for torbay, subset 1 :\n",
      "Processing data for shimoda, subset 1 :\n",
      "Processing data for bathsheba, subset 1 :\n",
      "Processing data for cape town, subset 1 :\n",
      "Processing data for cidreira, subset 1 :\n",
      "Processing data for megion, subset 1 :\n",
      "Processing data for japura, subset 1 :\n",
      "Processing data for leningradskiy, subset 1 :\n",
      "Processing data for merauke, subset 1 :\n",
      "Processing data for moindou, subset 1 :\n",
      "Processing data for comodoro rivadavia, subset 1 :\n",
      "Processing data for port elizabeth, subset 1 :\n",
      "Processing data for bredasdorp, subset 1 :\n",
      "Processing data for zhigansk, subset 1 :\n",
      "Processing data for rio claro, subset 1 :\n",
      "Processing data for redmond, subset 1 :\n",
      "Processing data for saint-leu, subset 1 :\n",
      "Processing data for ntcheu, subset 1 :\n",
      "Processing data for tuatapere, subset 1 :\n",
      "Processing data for bilibino, subset 1 :\n",
      "Processing data for hambantota, subset 1 :\n",
      "Processing data for camocim, subset 1 :\n",
      "Processing data for pattao, subset 1 :\n",
      "Processing data for tuktoyaktuk, subset 1 :\n",
      "Processing data for galesong, subset 1 :\n",
      "Processing data for asbestos, subset 1 :\n",
      "Processing data for berlevag, subset 1 :\n",
      "Processing data for jiddah, subset 1 :\n",
      "jiddah not found\n",
      "Processing data for cabo san lucas, subset 2 :\n",
      "Processing data for mar del plata, subset 2 :\n",
      "Processing data for durango, subset 2 :\n",
      "Processing data for klaksvik, subset 2 :\n",
      "Processing data for airai, subset 2 :\n",
      "Processing data for bethel, subset 2 :\n",
      "Processing data for nhulunbuy, subset 2 :\n",
      "Processing data for muskogee, subset 2 :\n",
      "Processing data for kodiak, subset 2 :\n",
      "Processing data for vonyarcvashegy, subset 2 :\n",
      "Processing data for ancud, subset 2 :\n",
      "Processing data for victoria, subset 2 :\n",
      "Processing data for pevek, subset 2 :\n",
      "Processing data for new norfolk, subset 2 :\n",
      "Processing data for sitka, subset 2 :\n",
      "Processing data for praia da vitoria, subset 2 :\n",
      "Processing data for hadishahr, subset 2 :\n",
      "Processing data for norman wells, subset 2 :\n",
      "Processing data for puerto ayora, subset 2 :\n",
      "Processing data for maarianhamina, subset 2 :\n",
      "Processing data for umzimvubu, subset 2 :\n",
      "umzimvubu not found\n",
      "Processing data for ponta do sol, subset 2 :\n",
      "Processing data for nikolskoye, subset 2 :\n",
      "Processing data for katsuura, subset 2 :\n",
      "Processing data for kemise, subset 2 :\n",
      "Processing data for grand river south east, subset 2 :\n",
      "grand river south east not found\n",
      "Processing data for arraial do cabo, subset 2 :\n",
      "Processing data for poltavka, subset 2 :\n",
      "Processing data for cockburn town, subset 2 :\n",
      "Processing data for naze, subset 2 :\n",
      "Processing data for severo-kurilsk, subset 2 :\n",
      "Processing data for pundaguitan, subset 2 :\n",
      "Processing data for marawi, subset 2 :\n",
      "Processing data for khatanga, subset 2 :\n",
      "Processing data for osecina, subset 2 :\n",
      "Processing data for nizhneyansk, subset 2 :\n",
      "nizhneyansk not found\n",
      "Processing data for east london, subset 2 :\n",
      "Processing data for biltine, subset 2 :\n",
      "Processing data for huarmey, subset 2 :\n",
      "Processing data for namtsy, subset 2 :\n",
      "Processing data for techiman, subset 2 :\n",
      "Processing data for bahia honda, subset 2 :\n",
      "Processing data for nikki, subset 2 :\n",
      "Processing data for lebu, subset 2 :\n",
      "Processing data for belushya guba, subset 2 :\n",
      "belushya guba not found\n",
      "Processing data for attawapiskat, subset 2 :\n",
      "attawapiskat not found\n",
      "Processing data for portland, subset 2 :\n",
      "Processing data for saint-philippe, subset 2 :\n",
      "Processing data for dongying, subset 2 :\n",
      "Processing data for taburi, subset 2 :\n",
      "taburi not found\n",
      "Processing data for askiz, subset 3 :\n",
      "Processing data for cabadiangan, subset 3 :\n",
      "Processing data for hithadhoo, subset 3 :\n",
      "Processing data for kawalu, subset 3 :\n",
      "Processing data for vanimo, subset 3 :\n",
      "Processing data for karratha, subset 3 :\n",
      "Processing data for saldanha, subset 3 :\n",
      "Processing data for adrar, subset 3 :\n",
      "Processing data for halifax, subset 3 :\n",
      "Processing data for severnoye, subset 3 :\n",
      "Processing data for simao, subset 3 :\n",
      "Processing data for yialos, subset 3 :\n",
      "yialos not found\n",
      "Processing data for manoel urbano, subset 3 :\n",
      "Processing data for carutapera, subset 3 :\n",
      "Processing data for the pas, subset 3 :\n",
      "Processing data for iqaluit, subset 3 :\n",
      "Processing data for quatre cocos, subset 3 :\n",
      "Processing data for hami, subset 3 :\n",
      "Processing data for ak-dovurak, subset 3 :\n",
      "Processing data for ribeira grande, subset 3 :\n",
      "Processing data for illoqqortoormiut, subset 3 :\n",
      "illoqqortoormiut not found\n",
      "Processing data for geraldton, subset 3 :\n",
      "Processing data for san quintin, subset 3 :\n",
      "Processing data for hohhot, subset 3 :\n",
      "Processing data for road town, subset 3 :\n",
      "Processing data for yar-sale, subset 3 :\n",
      "Processing data for aklavik, subset 3 :\n",
      "Processing data for sentyabrskiy, subset 3 :\n",
      "sentyabrskiy not found\n",
      "Processing data for shache, subset 3 :\n",
      "Processing data for olafsvik, subset 3 :\n",
      "Processing data for jovellar, subset 3 :\n",
      "Processing data for lazaro cardenas, subset 3 :\n",
      "Processing data for danielskuil, subset 3 :\n",
      "Processing data for coruripe, subset 3 :\n",
      "Processing data for san cristobal, subset 3 :\n",
      "Processing data for kaitangata, subset 3 :\n",
      "Processing data for flinders, subset 3 :\n"
     ]
    },
    {
     "name": "stdout",
     "output_type": "stream",
     "text": [
      "Processing data for hofn, subset 3 :\n",
      "Processing data for riaba, subset 3 :\n",
      "riaba not found\n",
      "Processing data for beringovskiy, subset 3 :\n",
      "Processing data for padang, subset 3 :\n",
      "Processing data for gladstone, subset 3 :\n",
      "Processing data for emerald, subset 3 :\n",
      "Processing data for naftah, subset 3 :\n",
      "naftah not found\n",
      "Processing data for bambous virieux, subset 3 :\n",
      "Processing data for saskylakh, subset 3 :\n",
      "Processing data for saint-paul, subset 3 :\n",
      "Processing data for ranong, subset 3 :\n",
      "Processing data for haines junction, subset 3 :\n",
      "Processing data for thap than, subset 3 :\n",
      "Processing data for acapulco, subset 4 :\n",
      "Processing data for sao filipe, subset 4 :\n",
      "Processing data for evensk, subset 4 :\n",
      "Processing data for provideniya, subset 4 :\n",
      "Processing data for gardan diwal, subset 4 :\n",
      "gardan diwal not found\n",
      "Processing data for dekar, subset 4 :\n",
      "Processing data for edson, subset 4 :\n",
      "Processing data for esperance, subset 4 :\n",
      "Processing data for saryshagan, subset 4 :\n",
      "saryshagan not found\n",
      "Processing data for mahebourg, subset 4 :\n",
      "Processing data for kieta, subset 4 :\n",
      "Processing data for yerbogachen, subset 4 :\n",
      "Processing data for hasaki, subset 4 :\n",
      "Processing data for touros, subset 4 :\n",
      "Processing data for ozgon, subset 4 :\n",
      "ozgon not found\n",
      "Processing data for bueno brandao, subset 4 :\n",
      "Processing data for ciudad bolivar, subset 4 :\n",
      "Processing data for kruisfontein, subset 4 :\n",
      "Processing data for landeck, subset 4 :\n",
      "Processing data for pontes e lacerda, subset 4 :\n",
      "Processing data for husavik, subset 4 :\n",
      "Processing data for nouadhibou, subset 4 :\n",
      "Processing data for jos, subset 4 :\n",
      "Processing data for angoche, subset 4 :\n",
      "Processing data for gamboma, subset 4 :\n",
      "Processing data for vestmannaeyjar, subset 4 :\n",
      "Processing data for poum, subset 4 :\n",
      "Processing data for palabuhanratu, subset 4 :\n",
      "palabuhanratu not found\n",
      "Processing data for okhotsk, subset 4 :\n",
      "Processing data for ossora, subset 4 :\n",
      "Processing data for peniche, subset 4 :\n",
      "Processing data for zhovtneve, subset 4 :\n",
      "Processing data for thinadhoo, subset 4 :\n",
      "Processing data for teya, subset 4 :\n",
      "Processing data for nishihara, subset 4 :\n",
      "Processing data for matagami, subset 4 :\n",
      "Processing data for dubna, subset 4 :\n",
      "Processing data for abnub, subset 4 :\n",
      "Processing data for buchanan, subset 4 :\n",
      "Processing data for isangel, subset 4 :\n",
      "Processing data for okha, subset 4 :\n",
      "Processing data for muromtsevo, subset 4 :\n",
      "Processing data for saint-pierre, subset 4 :\n",
      "Processing data for scotts valley, subset 4 :\n",
      "Processing data for goderich, subset 4 :\n",
      "Processing data for fortuna, subset 4 :\n",
      "Processing data for jiujiang, subset 4 :\n",
      "Processing data for dikson, subset 4 :\n",
      "Processing data for abu zabad, subset 4 :\n",
      "Processing data for san patricio, subset 4 :\n",
      "Processing data for oudtshoorn, subset 5 :\n",
      "Processing data for brae, subset 5 :\n",
      "Processing data for te anau, subset 5 :\n",
      "Processing data for gari, subset 5 :\n",
      "Processing data for coahuayana, subset 5 :\n",
      "Processing data for nantucket, subset 5 :\n",
      "Processing data for plettenberg bay, subset 5 :\n",
      "Processing data for nouna, subset 5 :\n",
      "Processing data for santa catarina de tepehuanes, subset 5 :\n",
      "Processing data for palmer, subset 5 :\n",
      "Processing data for caxito, subset 5 :\n",
      "Processing data for kushmurun, subset 5 :\n",
      "Processing data for soderhamn, subset 5 :\n",
      "Processing data for west wendover, subset 5 :\n",
      "Processing data for grand-santi, subset 5 :\n",
      "Processing data for ostrovnoy, subset 5 :\n",
      "Processing data for okakarara, subset 5 :\n",
      "Processing data for gorgan, subset 5 :\n",
      "Processing data for lompoc, subset 5 :\n",
      "Processing data for arroyo grande, subset 5 :\n",
      "Processing data for dingle, subset 5 :\n",
      "Processing data for carnarvon, subset 5 :\n",
      "Processing data for ponta delgada, subset 5 :\n",
      "Processing data for calvia, subset 5 :\n",
      "Processing data for gat, subset 5 :\n",
      "Processing data for katobu, subset 5 :\n",
      "Processing data for saleaula, subset 5 :\n",
      "saleaula not found\n",
      "Processing data for balkanabat, subset 5 :\n",
      "Processing data for general roca, subset 5 :\n",
      "Processing data for sabha, subset 5 :\n",
      "Processing data for sistranda, subset 5 :\n",
      "Processing data for udalguri, subset 5 :\n",
      "Processing data for atar, subset 5 :\n",
      "Processing data for tumannyy, subset 5 :\n",
      "tumannyy not found\n",
      "Processing data for saint-francois, subset 5 :\n",
      "Processing data for oyama, subset 5 :\n",
      "Processing data for leshukonskoye, subset 5 :\n",
      "Processing data for aitape, subset 5 :\n",
      "Processing data for yanan, subset 5 :\n",
      "yanan not found\n",
      "Processing data for aksu, subset 5 :\n",
      "Processing data for oulainen, subset 5 :\n",
      "Processing data for brigantine, subset 5 :\n",
      "Processing data for moyo, subset 5 :\n",
      "Processing data for kouqian, subset 5 :\n",
      "Processing data for arona, subset 5 :\n",
      "Processing data for jiangyou, subset 5 :\n",
      "Processing data for vieques, subset 5 :\n",
      "Processing data for bakchar, subset 5 :\n",
      "Processing data for dakar, subset 5 :\n",
      "Processing data for coquimbo, subset 5 :\n",
      "Processing data for whitecourt, subset 6 :\n",
      "Processing data for najran, subset 6 :\n",
      "Processing data for ko samui, subset 6 :\n",
      "Processing data for muros, subset 6 :\n",
      "Processing data for patitirion, subset 6 :\n",
      "Processing data for bonavista, subset 6 :\n",
      "Processing data for toungoo, subset 6 :\n",
      "toungoo not found\n",
      "Processing data for lasa, subset 6 :\n",
      "Processing data for haibowan, subset 6 :\n",
      "haibowan not found\n",
      "Processing data for lavrentiya, subset 6 :\n",
      "Processing data for ixtapa, subset 6 :\n",
      "Processing data for necochea, subset 6 :\n",
      "Processing data for caravelas, subset 6 :\n",
      "Processing data for havelock, subset 6 :\n",
      "Processing data for kerema, subset 6 :\n",
      "Processing data for bolungarvik, subset 6 :\n",
      "bolungarvik not found\n",
      "Processing data for petropavlovsk-kamchatskiy, subset 6 :\n",
      "Processing data for campbell river, subset 6 :\n",
      "Processing data for autazes, subset 6 :\n",
      "Processing data for kamenskoye, subset 6 :\n",
      "kamenskoye not found\n",
      "Processing data for takestan, subset 6 :\n",
      "Processing data for skjervoy, subset 6 :\n",
      "Processing data for gouyave, subset 6 :\n",
      "Processing data for lamu, subset 6 :\n",
      "Processing data for natal, subset 6 :\n",
      "Processing data for noumea, subset 6 :\n",
      "Processing data for gisborne, subset 6 :\n",
      "Processing data for westport, subset 6 :\n",
      "Processing data for kupang, subset 6 :\n",
      "Processing data for cap malheureux, subset 6 :\n",
      "Processing data for ketchikan, subset 6 :\n",
      "Processing data for antofagasta, subset 6 :\n",
      "Processing data for basco, subset 6 :\n",
      "Processing data for ilulissat, subset 6 :\n",
      "Processing data for hay river, subset 6 :\n",
      "Processing data for lodja, subset 6 :\n",
      "Processing data for tsihombe, subset 6 :\n",
      "tsihombe not found\n",
      "Processing data for esmeraldas, subset 6 :\n",
      "Processing data for los llanos de aridane, subset 6 :\n",
      "Processing data for kuhestan, subset 6 :\n",
      "kuhestan not found\n",
      "Processing data for sokolo, subset 6 :\n",
      "Processing data for dalupaon, subset 6 :\n",
      "Processing data for soloma, subset 6 :\n",
      "Processing data for inta, subset 6 :\n",
      "Processing data for matir, subset 6 :\n",
      "matir not found\n",
      "Processing data for nanakuli, subset 6 :\n",
      "Processing data for souillac, subset 6 :\n",
      "Processing data for hervey bay, subset 6 :\n",
      "Processing data for tyrma, subset 6 :\n",
      "Processing data for bengkulu, subset 6 :\n",
      "Processing data for kaman, subset 7 :\n",
      "Processing data for boguchany, subset 7 :\n",
      "Processing data for chitrakonda, subset 7 :\n",
      "Processing data for balad, subset 7 :\n",
      "Processing data for havre-saint-pierre, subset 7 :\n",
      "Processing data for warqla, subset 7 :\n",
      "warqla not found\n",
      "Processing data for istok, subset 7 :\n",
      "Processing data for kurumkan, subset 7 :\n",
      "Processing data for ratnagiri, subset 7 :\n",
      "Processing data for tromso, subset 7 :\n",
      "Processing data for salalah, subset 7 :\n",
      "Processing data for oktyabrskiy, subset 7 :\n",
      "Processing data for deputatskiy, subset 7 :\n",
      "Processing data for bilma, subset 7 :\n",
      "Processing data for longyearbyen, subset 7 :\n",
      "Processing data for sao felix do xingu, subset 7 :\n",
      "Processing data for uitenhage, subset 7 :\n",
      "Processing data for moranbah, subset 7 :\n",
      "Processing data for coihaique, subset 7 :\n",
      "Processing data for paucartambo, subset 7 :\n",
      "paucartambo not found\n",
      "Processing data for dunedin, subset 7 :\n",
      "Processing data for mareeba, subset 7 :\n",
      "Processing data for bassano, subset 7 :\n",
      "Processing data for bubaque, subset 7 :\n",
      "Processing data for zhezkazgan, subset 7 :\n",
      "Processing data for constitucion, subset 7 :\n",
      "Processing data for alyangula, subset 7 :\n",
      "Processing data for sao gabriel da cachoeira, subset 7 :\n"
     ]
    },
    {
     "name": "stdout",
     "output_type": "stream",
     "text": [
      "Processing data for misratah, subset 7 :\n",
      "Processing data for aykhal, subset 7 :\n",
      "Processing data for quimper, subset 7 :\n",
      "Processing data for nsanje, subset 7 :\n",
      "Processing data for preili, subset 7 :\n",
      "Processing data for port hardy, subset 7 :\n",
      "Processing data for talnakh, subset 7 :\n",
      "Processing data for veraval, subset 7 :\n",
      "Processing data for namibe, subset 7 :\n",
      "Processing data for beruwala, subset 7 :\n",
      "Processing data for chokurdakh, subset 7 :\n",
      "Processing data for samarai, subset 7 :\n",
      "Processing data for itarema, subset 7 :\n",
      "Processing data for mehnagar, subset 7 :\n",
      "Processing data for champerico, subset 7 :\n",
      "Processing data for slobodskoy, subset 7 :\n",
      "Processing data for usinsk, subset 7 :\n",
      "Processing data for bullhead city, subset 7 :\n",
      "Processing data for xiaoweizhai, subset 7 :\n",
      "Processing data for korgen, subset 7 :\n",
      "Processing data for reinosa, subset 7 :\n",
      "Processing data for tezu, subset 7 :\n",
      "Processing data for witrivier, subset 8 :\n",
      "witrivier not found\n",
      "Processing data for garoua boulai, subset 8 :\n",
      "Processing data for vila franca do campo, subset 8 :\n",
      "Processing data for viedma, subset 8 :\n",
      "Processing data for caibarien, subset 8 :\n",
      "Processing data for vardo, subset 8 :\n",
      "Processing data for ginir, subset 8 :\n",
      "Processing data for saint-augustin, subset 8 :\n",
      "Processing data for woodward, subset 8 :\n",
      "Processing data for pasighat, subset 8 :\n",
      "Processing data for asmar, subset 8 :\n",
      "Processing data for yumen, subset 8 :\n",
      "Processing data for blackwater, subset 8 :\n",
      "Processing data for kavieng, subset 8 :\n",
      "Processing data for alice springs, subset 8 :\n",
      "Processing data for deep river, subset 8 :\n",
      "Processing data for tiznit, subset 8 :\n",
      "Processing data for arrifes, subset 8 :\n",
      "Processing data for la uribe, subset 8 :\n",
      "la uribe not found\n",
      "Processing data for jinka, subset 8 :\n",
      "Processing data for atasu, subset 8 :\n",
      "Processing data for camanducaia, subset 8 :\n",
      "Processing data for tocopilla, subset 8 :\n",
      "Processing data for muli, subset 8 :\n",
      "Processing data for berdigestyakh, subset 8 :\n",
      "Processing data for tavda, subset 8 :\n",
      "Processing data for cabanas, subset 8 :\n",
      "Processing data for kenai, subset 8 :\n",
      "Processing data for marfino, subset 8 :\n",
      "Processing data for lujan, subset 8 :\n",
      "Processing data for esil, subset 8 :\n",
      "Processing data for galiwinku, subset 8 :\n",
      "galiwinku not found\n",
      "Processing data for altay, subset 8 :\n",
      "Processing data for moose factory, subset 8 :\n",
      "Processing data for mehamn, subset 8 :\n",
      "Processing data for acarau, subset 8 :\n",
      "Processing data for meyungs, subset 8 :\n",
      "meyungs not found\n",
      "Processing data for santa cruz de la palma, subset 8 :\n",
      "Processing data for pangai, subset 8 :\n",
      "Processing data for solwezi, subset 8 :\n",
      "Processing data for ajdabiya, subset 8 :\n",
      "Processing data for udachnyy, subset 8 :\n",
      "Processing data for santa barbara, subset 8 :\n",
      "Processing data for riesa, subset 8 :\n",
      "Processing data for erdenet, subset 8 :\n",
      "Processing data for union, subset 8 :\n",
      "Processing data for russell, subset 8 :\n",
      "Processing data for neiafu, subset 8 :\n",
      "Processing data for aswan, subset 8 :\n",
      "Processing data for karkal, subset 8 :\n",
      "Processing data for camargo, subset 9 :\n",
      "Processing data for valdivia, subset 9 :\n",
      "Processing data for naryan-mar, subset 9 :\n",
      "Processing data for chuka, subset 9 :\n",
      "Processing data for harper, subset 9 :\n",
      "Processing data for kanniyakumari, subset 9 :\n",
      "Processing data for omura, subset 9 :\n",
      "Processing data for moussoro, subset 9 :\n",
      "Processing data for lakes entrance, subset 9 :\n",
      "Processing data for rakiv lis, subset 9 :\n",
      "Processing data for pacific grove, subset 9 :\n",
      "Processing data for yeppoon, subset 9 :\n",
      "Processing data for sambava, subset 9 :\n",
      "Processing data for itaituba, subset 9 :\n",
      "Processing data for verkhnevilyuysk, subset 9 :\n",
      "Processing data for bay city, subset 9 :\n",
      "Processing data for yining, subset 9 :\n",
      "Processing data for ruatoria, subset 9 :\n",
      "ruatoria not found\n",
      "Processing data for havoysund, subset 9 :\n",
      "Processing data for ransang, subset 9 :\n",
      "Processing data for peterhead, subset 9 :\n",
      "Processing data for kegayli, subset 9 :\n",
      "kegayli not found\n",
      "Processing data for ganzhou, subset 9 :\n",
      "Processing data for lata, subset 9 :\n",
      "Processing data for utiroa, subset 9 :\n",
      "utiroa not found\n",
      "Processing data for rocha, subset 9 :\n",
      "Processing data for buala, subset 9 :\n",
      "Processing data for mosquera, subset 9 :\n",
      "Processing data for charters towers, subset 9 :\n",
      "Processing data for portree, subset 9 :\n",
      "Processing data for keti bandar, subset 9 :\n",
      "Processing data for rio cuarto, subset 9 :\n",
      "Processing data for tomohon, subset 9 :\n",
      "Processing data for nechi, subset 9 :\n",
      "Processing data for phuket, subset 9 :\n",
      "Processing data for kelowna, subset 9 :\n",
      "Processing data for laguna, subset 9 :\n",
      "Processing data for san fernando, subset 9 :\n",
      "Processing data for namatanai, subset 9 :\n",
      "Processing data for qui nhon, subset 9 :\n",
      "Processing data for estelle, subset 9 :\n",
      "Processing data for corrales, subset 9 :\n",
      "Processing data for samarkand, subset 9 :\n",
      "Processing data for nanortalik, subset 9 :\n",
      "Processing data for mnogovershinnyy, subset 9 :\n",
      "Processing data for veracruz, subset 9 :\n",
      "Processing data for llanes, subset 9 :\n",
      "Processing data for maniitsoq, subset 9 :\n",
      "Processing data for eureka, subset 9 :\n",
      "Processing data for bantry, subset 9 :\n",
      "Processing data for kazalinsk, subset 10 :\n",
      "kazalinsk not found\n",
      "Processing data for iralaya, subset 10 :\n",
      "Processing data for pedro ii, subset 10 :\n",
      "Processing data for roald, subset 10 :\n",
      "Processing data for greenwood, subset 10 :\n",
      "Processing data for santiago de cuba, subset 10 :\n",
      "Processing data for toktogul, subset 10 :\n",
      "Processing data for kamskiye polyany, subset 10 :\n",
      "Processing data for sioux lookout, subset 10 :\n",
      "Processing data for mudanjiang, subset 10 :\n",
      "Processing data for miandrivazo, subset 10 :\n",
      "Processing data for northam, subset 10 :\n",
      "Processing data for tuggurt, subset 10 :\n",
      "tuggurt not found\n",
      "Processing data for krasyliv, subset 10 :\n",
      "Processing data for rawson, subset 10 :\n",
      "Processing data for stornoway, subset 10 :\n",
      "Processing data for qandala, subset 10 :\n",
      "Processing data for shieli, subset 10 :\n",
      "Processing data for behbahan, subset 10 :\n",
      "Processing data for camacha, subset 10 :\n",
      "Processing data for hualmay, subset 10 :\n",
      "Processing data for mo i rana, subset 10 :\n",
      "Processing data for guerrero negro, subset 10 :\n",
      "Processing data for longonjo, subset 10 :\n",
      "Processing data for christchurch, subset 10 :\n",
      "Processing data for sao joao da barra, subset 10 :\n",
      "Processing data for luderitz, subset 10 :\n",
      "Processing data for capreol, subset 10 :\n",
      "Processing data for ust-kuyga, subset 10 :\n",
      "Processing data for bulgan, subset 10 :\n",
      "Processing data for bandarbeyla, subset 10 :\n",
      "Processing data for yarada, subset 10 :\n",
      "Processing data for uvira, subset 10 :\n",
      "Processing data for fort nelson, subset 10 :\n",
      "Processing data for phan rang, subset 10 :\n",
      "phan rang not found\n",
      "Processing data for abu samrah, subset 10 :\n",
      "Processing data for bakaly, subset 10 :\n",
      "Processing data for satana, subset 10 :\n",
      "Processing data for kalmunai, subset 10 :\n",
      "Processing data for port blair, subset 10 :\n",
      "Processing data for lodeynoye pole, subset 10 :\n",
      "Processing data for weatherford, subset 10 :\n",
      "Processing data for port lincoln, subset 10 :\n",
      "Processing data for sur, subset 10 :\n",
      "Processing data for talcahuano, subset 10 :\n",
      "Processing data for clyde river, subset 10 :\n",
      "Processing data for wahlern, subset 10 :\n",
      "Processing data for middelburg, subset 10 :\n",
      "Processing data for sharjah, subset 10 :\n",
      "Processing data for kedrovyy, subset 10 :\n",
      "Processing data for la quinta, subset 11 :\n",
      "Processing data for jinchang, subset 11 :\n",
      "Processing data for sibolga, subset 11 :\n",
      "Processing data for pokosnoye, subset 11 :\n",
      "Processing data for tazovskiy, subset 11 :\n",
      "Processing data for mount isa, subset 11 :\n",
      "Processing data for shakhtinsk, subset 11 :\n",
      "Processing data for kaka, subset 11 :\n",
      "Processing data for guayata, subset 11 :\n",
      "Processing data for nipawin, subset 11 :\n",
      "Processing data for rosarito, subset 11 :\n",
      "Processing data for pandan, subset 11 :\n",
      "Processing data for stromness, subset 11 :\n",
      "Processing data for cedar city, subset 11 :\n",
      "Processing data for jijiga, subset 11 :\n",
      "Processing data for kemijarvi, subset 11 :\n",
      "Processing data for sulzbach-rosenberg, subset 11 :\n",
      "Processing data for san antonio, subset 11 :\n",
      "Processing data for saint-joseph, subset 11 :\n",
      "Processing data for altamira, subset 11 :\n",
      "Processing data for wenling, subset 11 :\n"
     ]
    },
    {
     "name": "stdout",
     "output_type": "stream",
     "text": [
      "Processing data for samusu, subset 11 :\n",
      "samusu not found\n",
      "Processing data for gravdal, subset 11 :\n",
      "Processing data for half moon bay, subset 11 :\n",
      "Processing data for eustis, subset 11 :\n",
      "Processing data for whitehorse, subset 11 :\n",
      "Processing data for ouro preto do oeste, subset 11 :\n",
      "Processing data for talmenka, subset 11 :\n",
      "Processing data for asau, subset 11 :\n",
      "Processing data for tres arroyos, subset 11 :\n",
      "Processing data for xenia, subset 11 :\n",
      "Processing data for mildura, subset 11 :\n",
      "Processing data for qasigiannguit, subset 11 :\n",
      "Processing data for schoningen, subset 11 :\n",
      "Processing data for nchelenge, subset 11 :\n",
      "Processing data for hastings, subset 11 :\n",
      "Processing data for cabedelo, subset 11 :\n",
      "Processing data for broome, subset 11 :\n",
      "Processing data for uwayl, subset 11 :\n",
      "uwayl not found\n",
      "Processing data for maraba, subset 11 :\n",
      "Processing data for tual, subset 11 :\n",
      "Processing data for ust-kulom, subset 11 :\n",
      "Processing data for vostok, subset 11 :\n",
      "Processing data for port hedland, subset 11 :\n",
      "Processing data for arman, subset 11 :\n",
      "Processing data for velykyy burluk, subset 11 :\n",
      "Processing data for kyakhta, subset 11 :\n",
      "Processing data for taganak, subset 11 :\n",
      "Processing data for anadyr, subset 11 :\n",
      "Processing data for rincon, subset 11 :\n"
     ]
    }
   ],
   "source": [
    "#Build partial url to fetch weather information for cities in the list\n",
    "url = \"http://api.openweathermap.org/data/2.5/weather?\"\n",
    "units = \"imperial\"\n",
    "citylist = []\n",
    "lat = []\n",
    "lng = []\n",
    "maxtemp = []\n",
    "humidity = []\n",
    "cloudiness = []\n",
    "windspeed = []\n",
    "country = []\n",
    "dte = []\n",
    "#weather_api_key = \"89452b40cb3119b4ac559944f77eaccf\"\n",
    "# Build partial query URL\n",
    "query_url = f\"{url}appid={weather_api_key}&units={units}&q=\"\n",
    "print(\"Beginning Data Retrieval\")\n",
    "invalid_city=0\n",
    "# for each city in each list in list_of_city_df, make the api call to retrieve city data\n",
    "# update the following lists - city, lat, lng, maxtemp, humidity, cloudiness, winspeed, country, dte,\n",
    "# from each response to add the details for the current city.\n",
    "for i in range(len(list_of_city_df)):\n",
    "    time.sleep(2)\n",
    "    for city in list_of_city_df[i]:\n",
    "        try:\n",
    "            response = requests.get(query_url + city).json()\n",
    "            print(\"Processing data for \" + city + \", subset \"+str(i)+\" :\")\n",
    "            citylist.append(city)\n",
    "            lat.append(response['coord']['lat'])\n",
    "            lng.append(response['coord']['lon'])\n",
    "            maxtemp.append(response['main']['temp_max'])\n",
    "            humidity.append(response['main']['humidity'])\n",
    "            cloudiness.append(response['clouds']['all'])\n",
    "            windspeed.append(response['wind']['speed'])\n",
    "            country.append(response['sys']['country'])\n",
    "            dte.append(response['dt'])\n",
    "        except:\n",
    "            print(city + \" not found\")\n",
    "            invalid_city = invalid_city+1\n",
    "            #if city is not found, or there is an error, update the lists to remove any data that was added for this city\n",
    "            maxlength = len(citylist)\n",
    "            if maxlength > 0:\n",
    "                if(len(lat)) == maxlength:\n",
    "                    lat.pop()\n",
    "                if(len(lng)) == maxlength :\n",
    "                    lng.pop()\n",
    "                if(len(maxtemp)) == maxlength:\n",
    "                    maxtemp.pop()\n",
    "                if(len(humidity)) == maxlength:\n",
    "                    humidity.pop()\n",
    "                if(len(cloudiness)) == maxlength:\n",
    "                    cloudiness.pop()\n",
    "                if(len(windspeed)) == maxlength:\n",
    "                    windspeed.pop()\n",
    "                if(len(country)) == maxlength:\n",
    "                    country.pop()\n",
    "                if(len(dte)) == maxlength:\n",
    "                    dte.pop()\n",
    "                citylist.pop()\n"
   ]
  },
  {
   "cell_type": "markdown",
   "metadata": {},
   "source": [
    "### Convert Raw Data to DataFrame\n",
    "* Export the city data into a .csv.\n",
    "* Display the DataFrame"
   ]
  },
  {
   "cell_type": "code",
   "execution_count": null,
   "metadata": {},
   "outputs": [],
   "source": []
  },
  {
   "cell_type": "code",
   "execution_count": 5,
   "metadata": {},
   "outputs": [
    {
     "data": {
      "text/html": [
       "<div>\n",
       "<style scoped>\n",
       "    .dataframe tbody tr th:only-of-type {\n",
       "        vertical-align: middle;\n",
       "    }\n",
       "\n",
       "    .dataframe tbody tr th {\n",
       "        vertical-align: top;\n",
       "    }\n",
       "\n",
       "    .dataframe thead th {\n",
       "        text-align: right;\n",
       "    }\n",
       "</style>\n",
       "<table border=\"1\" class=\"dataframe\">\n",
       "  <thead>\n",
       "    <tr style=\"text-align: right;\">\n",
       "      <th></th>\n",
       "      <th>City</th>\n",
       "      <th>Lat</th>\n",
       "      <th>Lng</th>\n",
       "      <th>Max Temp</th>\n",
       "      <th>Humidity</th>\n",
       "      <th>Cloudiness</th>\n",
       "      <th>Wind Speed</th>\n",
       "      <th>Country</th>\n",
       "      <th>Date</th>\n",
       "    </tr>\n",
       "  </thead>\n",
       "  <tbody>\n",
       "    <tr>\n",
       "      <td>0</td>\n",
       "      <td>rikitea</td>\n",
       "      <td>-23.12</td>\n",
       "      <td>-134.97</td>\n",
       "      <td>74.59</td>\n",
       "      <td>82</td>\n",
       "      <td>94</td>\n",
       "      <td>9.86</td>\n",
       "      <td>PF</td>\n",
       "      <td>1603946015</td>\n",
       "    </tr>\n",
       "    <tr>\n",
       "      <td>1</td>\n",
       "      <td>qaanaaq</td>\n",
       "      <td>77.48</td>\n",
       "      <td>-69.36</td>\n",
       "      <td>7.70</td>\n",
       "      <td>72</td>\n",
       "      <td>2</td>\n",
       "      <td>8.99</td>\n",
       "      <td>GL</td>\n",
       "      <td>1603946015</td>\n",
       "    </tr>\n",
       "    <tr>\n",
       "      <td>2</td>\n",
       "      <td>punta arenas</td>\n",
       "      <td>-53.15</td>\n",
       "      <td>-70.92</td>\n",
       "      <td>46.40</td>\n",
       "      <td>65</td>\n",
       "      <td>40</td>\n",
       "      <td>28.86</td>\n",
       "      <td>CL</td>\n",
       "      <td>1603946015</td>\n",
       "    </tr>\n",
       "    <tr>\n",
       "      <td>3</td>\n",
       "      <td>port alfred</td>\n",
       "      <td>-33.59</td>\n",
       "      <td>26.89</td>\n",
       "      <td>67.26</td>\n",
       "      <td>83</td>\n",
       "      <td>98</td>\n",
       "      <td>12.06</td>\n",
       "      <td>ZA</td>\n",
       "      <td>1603946015</td>\n",
       "    </tr>\n",
       "    <tr>\n",
       "      <td>4</td>\n",
       "      <td>grindavik</td>\n",
       "      <td>63.84</td>\n",
       "      <td>-22.43</td>\n",
       "      <td>44.60</td>\n",
       "      <td>56</td>\n",
       "      <td>90</td>\n",
       "      <td>26.40</td>\n",
       "      <td>IS</td>\n",
       "      <td>1603945939</td>\n",
       "    </tr>\n",
       "    <tr>\n",
       "      <td>...</td>\n",
       "      <td>...</td>\n",
       "      <td>...</td>\n",
       "      <td>...</td>\n",
       "      <td>...</td>\n",
       "      <td>...</td>\n",
       "      <td>...</td>\n",
       "      <td>...</td>\n",
       "      <td>...</td>\n",
       "      <td>...</td>\n",
       "    </tr>\n",
       "    <tr>\n",
       "      <td>547</td>\n",
       "      <td>velykyy burluk</td>\n",
       "      <td>50.04</td>\n",
       "      <td>37.40</td>\n",
       "      <td>38.52</td>\n",
       "      <td>74</td>\n",
       "      <td>0</td>\n",
       "      <td>10.45</td>\n",
       "      <td>UA</td>\n",
       "      <td>1603946082</td>\n",
       "    </tr>\n",
       "    <tr>\n",
       "      <td>548</td>\n",
       "      <td>kyakhta</td>\n",
       "      <td>50.35</td>\n",
       "      <td>106.45</td>\n",
       "      <td>41.13</td>\n",
       "      <td>60</td>\n",
       "      <td>80</td>\n",
       "      <td>4.83</td>\n",
       "      <td>RU</td>\n",
       "      <td>1603946082</td>\n",
       "    </tr>\n",
       "    <tr>\n",
       "      <td>549</td>\n",
       "      <td>taganak</td>\n",
       "      <td>6.08</td>\n",
       "      <td>118.30</td>\n",
       "      <td>84.20</td>\n",
       "      <td>79</td>\n",
       "      <td>20</td>\n",
       "      <td>3.36</td>\n",
       "      <td>PH</td>\n",
       "      <td>1603946082</td>\n",
       "    </tr>\n",
       "    <tr>\n",
       "      <td>550</td>\n",
       "      <td>anadyr</td>\n",
       "      <td>64.75</td>\n",
       "      <td>177.48</td>\n",
       "      <td>10.40</td>\n",
       "      <td>85</td>\n",
       "      <td>40</td>\n",
       "      <td>6.71</td>\n",
       "      <td>RU</td>\n",
       "      <td>1603945914</td>\n",
       "    </tr>\n",
       "    <tr>\n",
       "      <td>551</td>\n",
       "      <td>rincon</td>\n",
       "      <td>32.30</td>\n",
       "      <td>-81.24</td>\n",
       "      <td>78.80</td>\n",
       "      <td>83</td>\n",
       "      <td>75</td>\n",
       "      <td>11.41</td>\n",
       "      <td>US</td>\n",
       "      <td>1603945876</td>\n",
       "    </tr>\n",
       "  </tbody>\n",
       "</table>\n",
       "<p>552 rows × 9 columns</p>\n",
       "</div>"
      ],
      "text/plain": [
       "               City    Lat     Lng  Max Temp  Humidity  Cloudiness  \\\n",
       "0           rikitea -23.12 -134.97     74.59        82          94   \n",
       "1           qaanaaq  77.48  -69.36      7.70        72           2   \n",
       "2      punta arenas -53.15  -70.92     46.40        65          40   \n",
       "3       port alfred -33.59   26.89     67.26        83          98   \n",
       "4         grindavik  63.84  -22.43     44.60        56          90   \n",
       "..              ...    ...     ...       ...       ...         ...   \n",
       "547  velykyy burluk  50.04   37.40     38.52        74           0   \n",
       "548         kyakhta  50.35  106.45     41.13        60          80   \n",
       "549         taganak   6.08  118.30     84.20        79          20   \n",
       "550          anadyr  64.75  177.48     10.40        85          40   \n",
       "551          rincon  32.30  -81.24     78.80        83          75   \n",
       "\n",
       "     Wind Speed Country        Date  \n",
       "0          9.86      PF  1603946015  \n",
       "1          8.99      GL  1603946015  \n",
       "2         28.86      CL  1603946015  \n",
       "3         12.06      ZA  1603946015  \n",
       "4         26.40      IS  1603945939  \n",
       "..          ...     ...         ...  \n",
       "547       10.45      UA  1603946082  \n",
       "548        4.83      RU  1603946082  \n",
       "549        3.36      PH  1603946082  \n",
       "550        6.71      RU  1603945914  \n",
       "551       11.41      US  1603945876  \n",
       "\n",
       "[552 rows x 9 columns]"
      ]
     },
     "execution_count": 5,
     "metadata": {},
     "output_type": "execute_result"
    }
   ],
   "source": [
    "\n",
    "city_df = pd.DataFrame({\"City\": citylist,\n",
    "                       \"Lat\" : lat,\n",
    "                       \"Lng\": lng,\n",
    "                       \"Max Temp\": maxtemp,\n",
    "                       \"Humidity\" : humidity,\n",
    "                       \"Cloudiness\" : cloudiness,\n",
    "                        \"Wind Speed\" : windspeed,\n",
    "                       \"Country\" : country,\n",
    "                       \"Date\" : dte})\n",
    "city_df"
   ]
  },
  {
   "cell_type": "code",
   "execution_count": 6,
   "metadata": {},
   "outputs": [
    {
     "name": "stdout",
     "output_type": "stream",
     "text": [
      "Total number of cities randomly generated using latitude and longitude information : 600\n",
      "Total number of cities whose data was found plus the number of cities not found from open weather : 600\n"
     ]
    }
   ],
   "source": [
    "#number_of_cities = 0\n",
    "#Added additional check to see if all the api call was made for all the cities\n",
    "print(\"Total number of cities randomly generated using latitude and longitude information : \"+str(len(cities)))\n",
    "print(\"Total number of cities whose data was found plus the number of cities not found from open weather : \"+ str(len(city_df)+invalid_city))\n",
    "# Save the city data to a csv file\n",
    "city_df.to_csv(\"../Resources/CityList.csv\")"
   ]
  },
  {
   "cell_type": "markdown",
   "metadata": {},
   "source": [
    "## Inspect the data and remove the cities where the humidity > 100%.\n",
    "----\n",
    "Skip this step if there are no cities that have humidity > 100%. "
   ]
  },
  {
   "cell_type": "code",
   "execution_count": 7,
   "metadata": {},
   "outputs": [
    {
     "data": {
      "text/plain": [
       "0"
      ]
     },
     "execution_count": 7,
     "metadata": {},
     "output_type": "execute_result"
    }
   ],
   "source": [
    "max_humidity_city = city_df.loc[city_df[\"Humidity\"] > 100,:]\n",
    "len(max_humidity_city)"
   ]
  },
  {
   "cell_type": "code",
   "execution_count": 8,
   "metadata": {},
   "outputs": [],
   "source": [
    "#  Get the indices of cities that have humidity over 100%.\n",
    "# Drop these cities from the city_df to get clean city data\n",
    "if len(max_humidity_city) > 0:\n",
    "    humid_cities = max_humidity_city[\"City\"]\n",
    "    city_df = city_df.drop(city_df.loc[city_df[\"City\"] in humid_cities].index, inplace = True)\n"
   ]
  },
  {
   "cell_type": "markdown",
   "metadata": {},
   "source": [
    "## Plotting the Data\n",
    "* Use proper labeling of the plots using plot titles (including date of analysis) and axes labels.\n",
    "* Save the plotted figures as .pngs."
   ]
  },
  {
   "cell_type": "markdown",
   "metadata": {},
   "source": [
    "## Latitude vs. Temperature Plot"
   ]
  },
  {
   "cell_type": "code",
   "execution_count": 9,
   "metadata": {
    "scrolled": true
   },
   "outputs": [
    {
     "data": {
      "image/png": "[encoded data removed]",
      "text/plain": [
       "<Figure size 432x288 with 1 Axes>"
      ]
     },
     "metadata": {
      "needs_background": "light"
     },
     "output_type": "display_data"
    }
   ],
   "source": [
    "lat_data = city_df[\"Lat\"]\n",
    "temp_data = city_df[\"Max Temp\"]\n",
    "plt.scatter(lat_data,temp_data)\n",
    "plt.xlabel(\"Latitude\")\n",
    "plt.ylabel(\"Maximum Temperature\")\n",
    "plt.title(\"Latitude vs Temperature plot for randomly selected cities\")\n",
    "plt.savefig('../Images/Latitude vs Temperature')\n",
    "plt.show()"
   ]
  },
  {
   "cell_type": "markdown",
   "metadata": {},
   "source": [
    "###### The latitude vs max temperature plot is in the shape of inverted bell, we can see that the max temperature is at equator(0 Latitude) and as we move away from the equator the temperature drops. the elongated right tail, further explains that the temperature are low in the northern hemisphere as compared to southern hemisphere."
   ]
  },
  {
   "cell_type": "markdown",
   "metadata": {},
   "source": [
    "## Latitude vs. Humidity Plot"
   ]
  },
  {
   "cell_type": "code",
   "execution_count": 10,
   "metadata": {},
   "outputs": [
    {
     "data": {
      "image/png": "[encoded data removed]",
      "text/plain": [
       "<Figure size 432x288 with 1 Axes>"
      ]
     },
     "metadata": {
      "needs_background": "light"
     },
     "output_type": "display_data"
    }
   ],
   "source": [
    "hum_data = city_df[\"Humidity\"]\n",
    "plt.scatter(lat_data,hum_data)\n",
    "plt.xlabel(\"Latitude\")\n",
    "plt.ylabel(\"Humidity\")\n",
    "plt.title(\"Latitude vs Humidity plot for randomly selected cities\")\n",
    "plt.savefig('../Images/Latitude vs Humidity')\n",
    "plt.show()\n"
   ]
  },
  {
   "cell_type": "markdown",
   "metadata": {},
   "source": [
    "###### The latitude vs humidity plot is more dense at the top, but otherwise it is spread across the whole image. Hence, it doesn't seem that there is any strong coorelation between these variables. Maybe we should look at other coorelations, e.g. Humidity and Temperature and see how they are correlated and that might explain how latitude(which has a correlation with temperature) effects humidity indirectly."
   ]
  },
  {
   "cell_type": "markdown",
   "metadata": {},
   "source": [
    "## Latitude vs. Cloudiness Plot"
   ]
  },
  {
   "cell_type": "code",
   "execution_count": 11,
   "metadata": {},
   "outputs": [
    {
     "data": {
      "image/png": "[encoded data removed]",
      "text/plain": [
       "<Figure size 432x288 with 1 Axes>"
      ]
     },
     "metadata": {
      "needs_background": "light"
     },
     "output_type": "display_data"
    }
   ],
   "source": [
    "cloud_data = city_df[\"Cloudiness\"]\n",
    "plt.scatter(lat_data,cloud_data)\n",
    "plt.xlabel(\"Latitude\")\n",
    "plt.ylabel(\"Cloudiness\")\n",
    "plt.title(\"Latitude vs Cloudiness plot for randomly selected data\")\n",
    "plt.savefig('../Images/Latitude vs Cloudiness')\n",
    "plt.show()"
   ]
  },
  {
   "cell_type": "markdown",
   "metadata": {},
   "source": [
    "###### The latitude vs Cloudiness plot is spread across the whole image. Hence, it doesn't seem that there is any strong coorelation between these variables. We should look at other coorelations, e.g. Humidity and Cloudiness and see how they are correlated and that might explain how latitude effects cloudiness indirectly."
   ]
  },
  {
   "cell_type": "markdown",
   "metadata": {},
   "source": [
    "## Latitude vs. Wind Speed Plot"
   ]
  },
  {
   "cell_type": "code",
   "execution_count": 12,
   "metadata": {},
   "outputs": [
    {
     "data": {
      "image/png": "[encoded data removed]",
      "text/plain": [
       "<Figure size 432x288 with 1 Axes>"
      ]
     },
     "metadata": {
      "needs_background": "light"
     },
     "output_type": "display_data"
    }
   ],
   "source": [
    "wind_data = city_df[\"Wind Speed\"]\n",
    "plt.scatter(lat_data,wind_data)\n",
    "plt.xlabel(\"Latitude\")\n",
    "plt.ylabel(\"Wind Speed\")\n",
    "plt.title(\"Latitude vs Wind Speed\")\n",
    "plt.savefig('../Images/Latitude vs Wind Speed')\n",
    "plt.show()"
   ]
  },
  {
   "cell_type": "markdown",
   "metadata": {},
   "source": [
    "###### There doesn't seem to be any correlation between Latitude and Wind Speed from the above plot, we can only say that the wind speed appears to change in a similar manner in both Northern and Southern hemisphere"
   ]
  },
  {
   "cell_type": "markdown",
   "metadata": {},
   "source": [
    "## Linear Regression"
   ]
  },
  {
   "cell_type": "code",
   "execution_count": 13,
   "metadata": {},
   "outputs": [],
   "source": [
    "nh_weatherdf  = city_df.loc[city_df[\"Lat\"] >= 0,:]\n",
    "sh_weatherdf = city_df.loc[city_df[\"Lat\"] < 0,:]"
   ]
  },
  {
   "cell_type": "markdown",
   "metadata": {},
   "source": [
    "####  Northern Hemisphere - Max Temp vs. Latitude Linear Regression"
   ]
  },
  {
   "cell_type": "code",
   "execution_count": 14,
   "metadata": {},
   "outputs": [
    {
     "data": {
      "image/png": "[encoded data removed]",
      "text/plain": [
       "<Figure size 432x288 with 1 Axes>"
      ]
     },
     "metadata": {
      "needs_background": "light"
     },
     "output_type": "display_data"
    },
    {
     "name": "stdout",
     "output_type": "stream",
     "text": [
      "The R Squared value is : 0.757923867998454\n",
      "Correlation Coefficient for Latitude and Maximum Temperature for cities in Northern Hemisphere is (-0.8705882310245494, 2.4439864925119362e-120)\n"
     ]
    },
    {
     "data": {
      "text/plain": [
       "<Figure size 432x288 with 0 Axes>"
      ]
     },
     "metadata": {},
     "output_type": "display_data"
    }
   ],
   "source": [
    "nh_lat = nh_weatherdf[\"Lat\"]\n",
    "nh_temp = nh_weatherdf[\"Max Temp\"]\n",
    "(slope_nh, intercept_nh, rvalue_nh, pvalue_nh, stderr_nh) = linregress(nh_lat, nh_temp)\n",
    "regress_values_nh = nh_lat * slope_nh + intercept_nh\n",
    "line_eq_nh = \"y = \" + str(round(slope_nh,2)) + \"x + \" + str(round(intercept_nh,2))\n",
    "plt.scatter(nh_lat,nh_temp)\n",
    "plt.plot(nh_lat,regress_values_nh,\"r-\")\n",
    "plt.annotate(line_eq_nh,(20,30),fontsize=15,color=\"red\")\n",
    "plt.xlabel('Latitude for Northern Hemisphere cities')\n",
    "plt.ylabel('Max Temperature')\n",
    "plt.title('Northern Hemishere - Linear regression between Latitude and Max Temperature')\n",
    "plt.show()\n",
    "plt.savefig('../Images/Linear RegressionNH - Latitude vs Temperature')\n",
    "print(\"The R Squared value is : \"+ str(rvalue_nh ** 2))\n",
    "\n",
    "r_nh = st.pearsonr(nh_lat,nh_temp)\n",
    "print(\"Correlation Coefficient for Latitude and Maximum Temperature for cities in Northern Hemisphere is \"+ str(r_nh))"
   ]
  },
  {
   "cell_type": "markdown",
   "metadata": {},
   "source": [
    "####  Southern Hemisphere - Max Temp vs. Latitude Linear Regression"
   ]
  },
  {
   "cell_type": "code",
   "execution_count": 15,
   "metadata": {},
   "outputs": [
    {
     "data": {
      "image/png": "[encoded data removed]",
      "text/plain": [
       "<Figure size 432x288 with 1 Axes>"
      ]
     },
     "metadata": {
      "needs_background": "light"
     },
     "output_type": "display_data"
    },
    {
     "name": "stdout",
     "output_type": "stream",
     "text": [
      "The R Squared value is : 0.42691761357939884\n",
      "Correlation Coefficient for Latitude and Maximum Temperature for cities in Northern Hemisphere is (0.6533893277207697, 1.4094137315271503e-21)\n"
     ]
    },
    {
     "data": {
      "text/plain": [
       "<Figure size 432x288 with 0 Axes>"
      ]
     },
     "metadata": {},
     "output_type": "display_data"
    }
   ],
   "source": [
    "sh_lat = sh_weatherdf[\"Lat\"]\n",
    "sh_temp = sh_weatherdf[\"Max Temp\"]\n",
    "(slope_sh, intercept_sh, rvalue_sh, pvalue_sh, stderr_sh) = linregress(sh_lat, sh_temp)\n",
    "regress_values_sh = sh_lat * slope_sh + intercept_sh\n",
    "line_eq_sh = \"y = \" + str(round(slope_sh,2)) + \"x + \" + str(round(intercept_sh,2))\n",
    "plt.scatter(sh_lat,sh_temp)\n",
    "plt.plot(sh_lat,regress_values_sh,\"r-\")\n",
    "plt.annotate(line_eq_sh,(20,30),fontsize=15,color=\"red\")\n",
    "plt.xlabel('Latitude for Southern Hemisphere cities')\n",
    "plt.ylabel('Max Temperature')\n",
    "plt.title('Southern Hemishere - Linear regression between Latitude and Max Temperature')\n",
    "plt.show()\n",
    "plt.savefig('../Images/Linear RegressionSH - Latitude vs Temperature')\n",
    "print(\"The R Squared value is : \"+ str(rvalue_sh ** 2))\n",
    "\n",
    "r_sh = st.pearsonr(sh_lat,sh_temp)\n",
    "print(\"Correlation Coefficient for Latitude and Maximum Temperature for cities in Northern Hemisphere is \"+ str(r_sh))"
   ]
  },
  {
   "cell_type": "markdown",
   "metadata": {},
   "source": [
    "###### There appears to be a strong negative correlation between Latitude and  max temperature for northern hemisphere, the strong r-value (-0.87) also confirms this. So as we move away from the equator the temperature drops. Same thing can be said for SH also, but a smaller slope for SH indicates that the temp drop is not as low as it is in NH."
   ]
  },
  {
   "cell_type": "markdown",
   "metadata": {},
   "source": [
    "####  Northern Hemisphere - Humidity (%) vs. Latitude Linear Regression"
   ]
  },
  {
   "cell_type": "code",
   "execution_count": 16,
   "metadata": {},
   "outputs": [
    {
     "data": {
      "image/png": "[encoded data removed]",
      "text/plain": [
       "<Figure size 432x288 with 1 Axes>"
      ]
     },
     "metadata": {
      "needs_background": "light"
     },
     "output_type": "display_data"
    },
    {
     "name": "stdout",
     "output_type": "stream",
     "text": [
      "The R Squared value is : 0.11604868266305818\n",
      "Correlation Coefficient for Latitude and Humidity for cities in Northern Hemisphere is (0.3406591884318668, 6.070559661400077e-12)\n"
     ]
    },
    {
     "data": {
      "text/plain": [
       "<Figure size 432x288 with 0 Axes>"
      ]
     },
     "metadata": {},
     "output_type": "display_data"
    }
   ],
   "source": [
    "nh_lat = nh_weatherdf[\"Lat\"]\n",
    "nh_hum = nh_weatherdf[\"Humidity\"]\n",
    "(slope_nh_hum, intercept_nh_hum, rvalue_nh_hum, pvalue_nh_hum, stderr_nh_hum) = linregress(nh_lat, nh_hum)\n",
    "regress_values_nh_hum = nh_lat * slope_nh_hum + intercept_nh_hum\n",
    "line_eq_nh_hum = \"y = \" + str(round(slope_nh_hum,2)) + \"x + \" + str(round(intercept_nh_hum,2))\n",
    "plt.scatter(nh_lat,nh_hum)\n",
    "plt.plot(nh_lat,regress_values_nh_hum,\"r-\")\n",
    "plt.annotate(line_eq_nh_hum,(20,30),fontsize=15,color=\"red\")\n",
    "plt.xlabel('Latitude for Northern Hemisphere cities')\n",
    "plt.ylabel('Humidity')\n",
    "plt.title('Northern Hemishere - Linear regression between Latitude and Humidity')\n",
    "plt.show()\n",
    "plt.savefig('../Images/Linear RegressionNH - Latitude vs Humidity')\n",
    "print(\"The R Squared value is : \"+ str(rvalue_nh_hum ** 2))\n",
    "\n",
    "r_nh_hum = st.pearsonr(nh_lat,nh_hum)\n",
    "print(\"Correlation Coefficient for Latitude and Humidity for cities in Northern Hemisphere is \"+ str(r_nh_hum))"
   ]
  },
  {
   "cell_type": "markdown",
   "metadata": {},
   "source": [
    "####  Southern Hemisphere - Humidity (%) vs. Latitude Linear Regression"
   ]
  },
  {
   "cell_type": "code",
   "execution_count": 17,
   "metadata": {},
   "outputs": [
    {
     "data": {
      "image/png": "[encoded data removed]",
      "text/plain": [
       "<Figure size 432x288 with 1 Axes>"
      ]
     },
     "metadata": {
      "needs_background": "light"
     },
     "output_type": "display_data"
    },
    {
     "name": "stdout",
     "output_type": "stream",
     "text": [
      "The R Squared value is : 0.0170544369532052\n",
      "Correlation Coefficient for Latitude and Humidity for cities in Northern Hemisphere is (0.13059263743873625, 0.09353384967734374)\n"
     ]
    },
    {
     "data": {
      "text/plain": [
       "<Figure size 432x288 with 0 Axes>"
      ]
     },
     "metadata": {},
     "output_type": "display_data"
    }
   ],
   "source": [
    "sh_lat = sh_weatherdf[\"Lat\"]\n",
    "sh_hum = sh_weatherdf[\"Humidity\"]\n",
    "(slope_sh_hum, intercept_sh_hum, rvalue_sh_hum, pvalue_sh_hum, stderr_sh_hum) = linregress(sh_lat, sh_hum)\n",
    "regress_values_sh_hum = sh_lat * slope_sh_hum + intercept_sh_hum\n",
    "line_eq_sh_hum = \"y = \" + str(round(slope_sh_hum,2)) + \"x + \" + str(round(intercept_sh_hum,2))\n",
    "plt.scatter(sh_lat,sh_hum)\n",
    "plt.plot(sh_lat,regress_values_sh_hum,\"r-\")\n",
    "plt.annotate(line_eq_sh_hum,(20,30),fontsize=15,color=\"red\")\n",
    "plt.xlabel('Latitude for Southern Hemisphere cities')\n",
    "plt.ylabel('Humidity')\n",
    "plt.title('Southern Hemishere - Linear regression between Latitude and Humidity')\n",
    "plt.show()\n",
    "plt.savefig('../Images/Linear RegressionSH - Latitude vs Humidity')\n",
    "print(\"The R Squared value is : \"+ str(rvalue_sh_hum ** 2))\n",
    "\n",
    "r_sh_hum = st.pearsonr(sh_lat,sh_hum)\n",
    "print(\"Correlation Coefficient for Latitude and Humidity for cities in Northern Hemisphere is \"+ str(r_sh_hum))"
   ]
  },
  {
   "cell_type": "markdown",
   "metadata": {},
   "source": [
    "###### For both NH and SH, the r- value is quite low, also from the above plots we see that data is scattered over the entire image, so it is safe to say that Humidity has no direct strong relation with latitude for both NH and SH"
   ]
  },
  {
   "cell_type": "markdown",
   "metadata": {},
   "source": [
    "####  Northern Hemisphere - Cloudiness (%) vs. Latitude Linear Regression"
   ]
  },
  {
   "cell_type": "code",
   "execution_count": 18,
   "metadata": {},
   "outputs": [
    {
     "data": {
      "image/png": "[encoded data removed]",
      "text/plain": [
       "<Figure size 432x288 with 1 Axes>"
      ]
     },
     "metadata": {
      "needs_background": "light"
     },
     "output_type": "display_data"
    },
    {
     "name": "stdout",
     "output_type": "stream",
     "text": [
      "The R Squared value is : 0.054459236199239244\n",
      "Correlation Coefficient for Latitude and Cloudiness for cities in Northern Hemisphere is (0.23336502779816687, 3.583804358547742e-06)\n"
     ]
    },
    {
     "data": {
      "text/plain": [
       "<Figure size 432x288 with 0 Axes>"
      ]
     },
     "metadata": {},
     "output_type": "display_data"
    }
   ],
   "source": [
    "nh_lat = nh_weatherdf[\"Lat\"]\n",
    "nh_cld = nh_weatherdf[\"Cloudiness\"]\n",
    "(slope_nh_cld, intercept_nh_cld, rvalue_nh_cld, pvalue_nh_cld, stderr_nh_cld) = linregress(nh_lat, nh_cld)\n",
    "regress_values_nh_cld = nh_lat * slope_nh_cld + intercept_nh_cld\n",
    "line_eq_nh_cld = \"y = \" + str(round(slope_nh_cld,2)) + \"x + \" + str(round(intercept_nh_cld,2))\n",
    "plt.scatter(nh_lat,nh_cld)\n",
    "plt.plot(nh_lat,regress_values_nh_cld,\"r-\")\n",
    "plt.annotate(line_eq_nh_cld,(20,30),fontsize=15,color=\"red\")\n",
    "plt.xlabel('Latitude for Northern Hemisphere cities')\n",
    "plt.ylabel('Cloudiness')\n",
    "plt.title('Northern Hemishere - Linear regression between Latitude and Cloudiness')\n",
    "plt.show()\n",
    "plt.savefig('../Images/Linear RegressionNH - Latitude vs Cloudiness')\n",
    "print(\"The R Squared value is : \"+ str(rvalue_nh_cld ** 2))\n",
    "\n",
    "r_nh_cld = st.pearsonr(nh_lat,nh_cld)\n",
    "print(\"Correlation Coefficient for Latitude and Cloudiness for cities in Northern Hemisphere is \"+ str(r_nh_cld))"
   ]
  },
  {
   "cell_type": "markdown",
   "metadata": {},
   "source": [
    "####  Southern Hemisphere - Cloudiness (%) vs. Latitude Linear Regression"
   ]
  },
  {
   "cell_type": "code",
   "execution_count": 19,
   "metadata": {},
   "outputs": [
    {
     "data": {
      "image/png": "[encoded data removed]",
      "text/plain": [
       "<Figure size 432x288 with 1 Axes>"
      ]
     },
     "metadata": {
      "needs_background": "light"
     },
     "output_type": "display_data"
    },
    {
     "name": "stdout",
     "output_type": "stream",
     "text": [
      "The R Squared value is : 0.07396433780196211\n",
      "Correlation Coefficient for Latitude and Wind Speed for cities in Northern Hemisphere is (0.2719638538518715, 0.0003932367242231989)\n"
     ]
    },
    {
     "data": {
      "text/plain": [
       "<Figure size 432x288 with 0 Axes>"
      ]
     },
     "metadata": {},
     "output_type": "display_data"
    }
   ],
   "source": [
    "sh_lat = sh_weatherdf[\"Lat\"]\n",
    "sh_cld = sh_weatherdf[\"Cloudiness\"]\n",
    "(slope_sh_cld, intercept_sh_cld, rvalue_sh_cld, pvalue_sh_cld, stderr_sh_cld) = linregress(sh_lat, sh_cld)\n",
    "regress_values_sh_cld = sh_lat * slope_sh_cld + intercept_sh_cld\n",
    "line_eq_sh_cld = \"y = \" + str(round(slope_sh_cld,2)) + \"x + \" + str(round(intercept_sh_cld,2))\n",
    "plt.scatter(sh_lat,sh_cld)\n",
    "plt.plot(sh_lat,regress_values_sh_cld,\"r-\")\n",
    "plt.annotate(line_eq_sh_cld,(20,30),fontsize=15,color=\"red\")\n",
    "plt.xlabel('Latitude for Southern Hemisphere cities')\n",
    "plt.ylabel('Cloudiness')\n",
    "plt.title('Southern Hemishere - Linear regression between Latitude and Cloudiness')\n",
    "plt.show()\n",
    "plt.savefig('../Images/Linear RegressionSH - Latitude vs Cloudiness')\n",
    "print(\"The R Squared value is : \"+ str(rvalue_sh_cld ** 2))\n",
    "\n",
    "r_sh_cld = st.pearsonr(sh_lat,sh_cld)\n",
    "print(\"Correlation Coefficient for Latitude and Wind Speed for cities in Northern Hemisphere is \"+ str(r_sh_cld))"
   ]
  },
  {
   "cell_type": "markdown",
   "metadata": {},
   "source": [
    "###### Like Humidity, cloudiness also doesn't seem to have any significant linear relationship with Latitude for both NH and SH which is evident from low r-values in both cases"
   ]
  },
  {
   "cell_type": "markdown",
   "metadata": {},
   "source": [
    "####  Northern Hemisphere - Wind Speed (mph) vs. Latitude Linear Regression"
   ]
  },
  {
   "cell_type": "code",
   "execution_count": 20,
   "metadata": {},
   "outputs": [
    {
     "data": {
      "image/png": "[encoded data removed]",
      "text/plain": [
       "<Figure size 432x288 with 1 Axes>"
      ]
     },
     "metadata": {
      "needs_background": "light"
     },
     "output_type": "display_data"
    },
    {
     "name": "stdout",
     "output_type": "stream",
     "text": [
      "The R Squared value is : 0.05204285286515417\n",
      "Correlation Coefficient for Latitude and Wind Speed for cities in Northern Hemisphere is (0.22812902679219527, 5.973507806248142e-06)\n"
     ]
    },
    {
     "data": {
      "text/plain": [
       "<Figure size 432x288 with 0 Axes>"
      ]
     },
     "metadata": {},
     "output_type": "display_data"
    }
   ],
   "source": [
    "nh_lat = nh_weatherdf[\"Lat\"]\n",
    "nh_wsd = nh_weatherdf[\"Wind Speed\"]\n",
    "(slope_nh_wsd, intercept_nh_wsd, rvalue_nh_wsd, pvalue_nh_wsd, stderr_nh_wsd) = linregress(nh_lat, nh_wsd)\n",
    "regress_values_nh_wsd = nh_lat * slope_nh_wsd + intercept_nh_wsd\n",
    "line_eq_nh_wsd = \"y = \" + str(round(slope_nh_wsd,2)) + \"x + \" + str(round(intercept_nh_wsd,2))\n",
    "plt.scatter(nh_lat,nh_wsd)\n",
    "plt.plot(nh_lat,regress_values_nh_wsd,\"r-\")\n",
    "plt.annotate(line_eq_nh_wsd,(20,30),fontsize=15,color=\"red\")\n",
    "plt.xlabel('Latitude for Northern Hemisphere cities')\n",
    "plt.ylabel('Wind Speed')\n",
    "plt.title('Northern Hemishere - Linear regression between Latitude and Wind Speed')\n",
    "plt.show()\n",
    "plt.savefig('../Images/Linear RegressionNH - Latitude vs Wind Speed')\n",
    "print(\"The R Squared value is : \"+ str(rvalue_nh_wsd ** 2))\n",
    "\n",
    "r_nh_wsd = st.pearsonr(nh_lat,nh_wsd)\n",
    "print(\"Correlation Coefficient for Latitude and Wind Speed for cities in Northern Hemisphere is \"+ str(r_nh_wsd))"
   ]
  },
  {
   "cell_type": "markdown",
   "metadata": {},
   "source": [
    "####  Southern Hemisphere - Wind Speed (mph) vs. Latitude Linear Regression"
   ]
  },
  {
   "cell_type": "code",
   "execution_count": 21,
   "metadata": {},
   "outputs": [
    {
     "data": {
      "image/png": "[encoded data removed]",
      "text/plain": [
       "<Figure size 432x288 with 1 Axes>"
      ]
     },
     "metadata": {
      "needs_background": "light"
     },
     "output_type": "display_data"
    },
    {
     "name": "stdout",
     "output_type": "stream",
     "text": [
      "The R Squared value is : 0.058367015419887876\n",
      "Correlation Coefficient for Latitude and Wind Speed for cities in Northern Hemisphere is (-0.2415926642509823, 0.0017140515171346856)\n"
     ]
    },
    {
     "data": {
      "text/plain": [
       "<Figure size 432x288 with 0 Axes>"
      ]
     },
     "metadata": {},
     "output_type": "display_data"
    }
   ],
   "source": [
    "sh_lat = sh_weatherdf[\"Lat\"]\n",
    "sh_wsd = sh_weatherdf[\"Wind Speed\"]\n",
    "(slope_sh_wsd, intercept_sh_wsd, rvalue_sh_wsd, pvalue_sh_wsd, stderr_sh_wsd) = linregress(sh_lat, sh_wsd)\n",
    "regress_values_sh_wsd = sh_lat * slope_sh_wsd + intercept_sh_wsd\n",
    "line_eq_sh_wsd = \"y = \" + str(round(slope_sh_wsd,2)) + \"x + \" + str(round(intercept_sh_wsd,2))\n",
    "plt.scatter(sh_lat,sh_wsd)\n",
    "plt.plot(sh_lat,regress_values_sh_wsd,\"r-\")\n",
    "plt.annotate(line_eq_sh_wsd,(20,30),fontsize=15,color=\"red\")\n",
    "plt.xlabel('Latitude for Southern Hemisphere cities')\n",
    "plt.ylabel('Wind Speed')\n",
    "plt.title('Southern Hemishere - Linear regression between Latitude and Wind Speed')\n",
    "plt.show()\n",
    "plt.savefig('../Images/Linear RegressionSH - Latitude vs Wind Speed')\n",
    "print(\"The R Squared value is : \"+ str(rvalue_sh_wsd ** 2))\n",
    "\n",
    "r_sh_wsd = st.pearsonr(sh_lat,sh_wsd)\n",
    "print(\"Correlation Coefficient for Latitude and Wind Speed for cities in Northern Hemisphere is \"+ str(r_sh_wsd))"
   ]
  },
  {
   "cell_type": "markdown",
   "metadata": {},
   "source": [
    "###### Windspeed also doesn't seem to have any significant linear relationship with Latitude for both NH and SH which is evident from low r-values in both cases"
   ]
  },
  {
   "cell_type": "code",
   "execution_count": null,
   "metadata": {},
   "outputs": [],
   "source": []
  }
 ],
 "metadata": {
  "anaconda-cloud": {},
  "kernel_info": {
   "name": "python3"
  },
  "kernelspec": {
   "display_name": "Python 3",
   "language": "python",
   "name": "python3"
  },
  "language_info": {
   "codemirror_mode": {
    "name": "ipython",
    "version": 3
   },
   "file_extension": ".py",
   "mimetype": "text/x-python",
   "name": "python",
   "nbconvert_exporter": "python",
   "pygments_lexer": "ipython3",
   "version": "3.7.4"
  },
  "latex_envs": {
   "LaTeX_envs_menu_present": true,
   "autoclose": false,
   "autocomplete": true,
   "bibliofile": "biblio.bib",
   "cite_by": "apalike",
   "current_citInitial": 1,
   "eqLabelWithNumbers": true,
   "eqNumInitial": 1,
   "hotkeys": {
    "equation": "Ctrl-E",
    "itemize": "Ctrl-I"
   },
   "labels_anchors": false,
   "latex_user_defs": false,
   "report_style_numbering": false,
   "user_envs_cfg": false
  },
  "nteract": {
   "version": "0.12.3"
  }
 },
 "nbformat": 4,
 "nbformat_minor": 2
}
